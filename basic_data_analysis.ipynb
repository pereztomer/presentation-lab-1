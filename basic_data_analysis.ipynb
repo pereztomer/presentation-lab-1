{
 "cells": [
  {
   "cell_type": "code",
   "execution_count": 1,
   "metadata": {
    "collapsed": true,
    "ExecuteTime": {
     "end_time": "2023-05-07T17:04:14.245308752Z",
     "start_time": "2023-05-07T17:04:13.854112538Z"
    }
   },
   "outputs": [],
   "source": [
    "import pandas as pd\n",
    "from glob import glob\n",
    "import matplotlib.pyplot as plt"
   ]
  },
  {
   "cell_type": "code",
   "execution_count": 2,
   "outputs": [],
   "source": [
    "def extract_sample(patient_path):\n",
    "    patient_dataframe = pd.read_csv(patient_path, sep='|')\n",
    "    if len(patient_dataframe[patient_dataframe.SepsisLabel == 1]) == 0:\n",
    "        label = 0\n",
    "    else:\n",
    "        label = 1\n",
    "        label_row = patient_dataframe[patient_dataframe.SepsisLabel == 1].index[0]\n",
    "        patient_dataframe = patient_dataframe.iloc[:label_row + 1]\n",
    "\n",
    "    # patient_dataframe = patient_dataframe.fillna(patient_dataframe.mean(numeric_only=True).round(1),inplace=False)\n",
    "    # patient_dataframe = patient_dataframe.fillna(0, inplace=False)\n",
    "    patient_dataframe = patient_dataframe.drop(columns=['SepsisLabel'], inplace=False)\n",
    "    return patient_dataframe, label\n"
   ],
   "metadata": {
    "collapsed": false,
    "ExecuteTime": {
     "end_time": "2023-05-07T17:04:18.110399091Z",
     "start_time": "2023-05-07T17:04:18.105898080Z"
    }
   }
  },
  {
   "cell_type": "code",
   "execution_count": 3,
   "outputs": [],
   "source": [
    "def calc_class_balance(ds_path):\n",
    "    files_paths = glob(f'{ds_path}/**.psv')\n",
    "    zero_counter = 0\n",
    "    one_counter = 0\n",
    "    for sample_path in files_paths:\n",
    "        sample_df, sample_label = extract_sample(sample_path)\n",
    "        if sample_label == 0:\n",
    "            zero_counter+=1\n",
    "        else:\n",
    "            one_counter+=1\n",
    "\n",
    "    zero_class_percentage = zero_counter / (zero_counter+one_counter)\n",
    "    one_class_percentage = one_counter / (zero_counter+one_counter)\n",
    "    return zero_class_percentage, one_class_percentage"
   ],
   "metadata": {
    "collapsed": false,
    "ExecuteTime": {
     "end_time": "2023-05-07T17:04:22.211200485Z",
     "start_time": "2023-05-07T17:04:22.192364038Z"
    }
   }
  },
  {
   "cell_type": "code",
   "execution_count": 4,
   "outputs": [],
   "source": [
    "def plot_class_percentages(*numbers):\n",
    "    assert len(numbers) == 2, 'Please provide two classes'\n",
    "    # Define the labels for x-axis\n",
    "    labels = ['Class 1', 'Class 2']\n",
    "\n",
    "    # Create a bar chart\n",
    "    plt.bar(labels, numbers)\n",
    "\n",
    "    # Add a title to the chart\n",
    "    plt.title('Class balance')\n",
    "\n",
    "    # Add labels to the axes\n",
    "    plt.xlabel('Classes')\n",
    "    plt.ylabel('Percentage')\n",
    "\n",
    "    # Add numbers above the bars\n",
    "    for i in range(len(numbers)):\n",
    "        plt.text(i, numbers[i], numbers[i], ha='center')\n",
    "\n",
    "    # Show the chart\n",
    "    plt.show()\n"
   ],
   "metadata": {
    "collapsed": false,
    "ExecuteTime": {
     "end_time": "2023-05-07T17:04:24.438743197Z",
     "start_time": "2023-05-07T17:04:24.432826767Z"
    }
   }
  },
  {
   "cell_type": "code",
   "execution_count": 18,
   "outputs": [],
   "source": [
    "train_path = 'original_data/train'\n",
    "# train_zero_class_per, train_one_class_per = calc_class_balance(train_path)\n",
    "# plot_class_percentages(train_zero_class_per, train_one_class_per)"
   ],
   "metadata": {
    "collapsed": false,
    "ExecuteTime": {
     "end_time": "2023-05-07T17:18:36.432048884Z",
     "start_time": "2023-05-07T17:18:36.426843903Z"
    }
   }
  },
  {
   "cell_type": "code",
   "execution_count": 7,
   "outputs": [],
   "source": [
    "test_path = 'original_data/test'\n",
    "# test_zero_class_per, test_one_class_per = calc_class_balance(test_path)\n",
    "# plot_class_percentages(test_zero_class_per, test_one_class_per)"
   ],
   "metadata": {
    "collapsed": false,
    "ExecuteTime": {
     "end_time": "2023-05-07T17:04:50.545673660Z",
     "start_time": "2023-05-07T17:04:50.504109005Z"
    }
   }
  },
  {
   "cell_type": "code",
   "execution_count": 13,
   "outputs": [],
   "source": [
    "\n",
    "def calc_nulls_percentage(ds_path):\n",
    "    files_paths = glob(f'{ds_path}/**.psv')\n",
    "    zero_counter = 0\n",
    "    one_counter = 0\n",
    "    for idx, sample_path in enumerate(files_paths):\n",
    "        if idx %1000 == 0:\n",
    "            print(f'{idx}/{len(files_paths)}')\n",
    "        sample_df, sample_label = extract_sample(sample_path)\n",
    "        if sample_label == 0:\n",
    "            zero_counter+=1\n",
    "        else:\n",
    "            one_counter+=1\n",
    "        if idx == 0:\n",
    "            total_df = sample_df\n",
    "        else:\n",
    "            total_df = pd.concat([total_df, sample_df], axis=0)\n",
    "\n",
    "    print(sample_df.isnull().sum() * 100 / len(sample_df))\n",
    "\n"
   ],
   "metadata": {
    "collapsed": false,
    "ExecuteTime": {
     "end_time": "2023-05-07T17:06:25.858560932Z",
     "start_time": "2023-05-07T17:06:25.856811695Z"
    }
   }
  },
  {
   "cell_type": "code",
   "execution_count": 42,
   "outputs": [],
   "source": [
    "# calc_nulls_percentage(train_path)\n",
    "# calc_nulls_percentage(train_path)\n",
    "one_hundred_precent_null_test = ['EtCO2', 'AST', 'Alkalinephos', 'Bilirubin_direct', 'Bilirubin_total', 'TroponinI', 'Fibrinogen', 'Unit1', 'Unit2']\n",
    "one_hundred_precent_null_train = ['EtCO2', 'BaseExcess', 'FiO2', 'pH', 'PaCO2', 'SaO2','AST','Alkalinephos', 'Bilirubin_direct', 'Bilirubin_total', 'TroponinI', 'Fibrinogen', 'Unit1', 'Unit2']"
   ],
   "metadata": {
    "collapsed": false,
    "ExecuteTime": {
     "end_time": "2023-05-07T17:27:53.183208600Z",
     "start_time": "2023-05-07T17:27:53.180499754Z"
    }
   }
  },
  {
   "cell_type": "code",
   "execution_count": 48,
   "outputs": [
    {
     "data": {
      "text/plain": "['Alkalinephos',\n 'PaCO2',\n 'FiO2',\n 'Bilirubin_total',\n 'BaseExcess',\n 'SaO2',\n 'pH',\n 'AST',\n 'TroponinI',\n 'Bilirubin_direct',\n 'Fibrinogen',\n 'Unit1',\n 'Unit2',\n 'EtCO2']"
     },
     "execution_count": 48,
     "metadata": {},
     "output_type": "execute_result"
    }
   ],
   "source": [
    "one_hundred_precent_null_train.extend(one_hundred_precent_null_test)\n",
    "list(set(one_hundred_precent_null_train))"
   ],
   "metadata": {
    "collapsed": false,
    "ExecuteTime": {
     "end_time": "2023-05-07T17:29:17.233595642Z",
     "start_time": "2023-05-07T17:29:17.228527194Z"
    }
   }
  },
  {
   "cell_type": "code",
   "execution_count": 16,
   "outputs": [
    {
     "data": {
      "text/plain": "     HR  O2Sat   Temp    SBP   MAP  DBP  Resp  EtCO2  BaseExcess  HCO3  ...   \n0   NaN    NaN    NaN    NaN   NaN  NaN   NaN    NaN         NaN   NaN  ...  \\\n1  77.0   95.0    NaN  122.0  82.0  NaN  17.0    NaN         NaN   NaN  ...   \n2  85.0  100.0  35.89  127.0  85.0  NaN  10.0    NaN         NaN   NaN  ...   \n3  80.0   95.0    NaN  117.0  82.0  NaN  18.0    NaN         NaN   NaN  ...   \n4  71.0   96.0    NaN  118.0  79.0  NaN  18.0    NaN         NaN  23.0  ...   \n\n   PTT  WBC  Fibrinogen  Platelets    Age  Gender  Unit1  Unit2  HospAdmTime   \n0  NaN  NaN         NaN        NaN  35.58       1      1      0       -22.28  \\\n1  NaN  NaN         NaN        NaN  35.58       1      1      0       -22.28   \n2  NaN  NaN         NaN        NaN  35.58       1      1      0       -22.28   \n3  NaN  NaN         NaN        NaN  35.58       1      1      0       -22.28   \n4  NaN  5.5         NaN      137.0  35.58       1      1      0       -22.28   \n\n   ICULOS  \n0       1  \n1       2  \n2       3  \n3       4  \n4       5  \n\n[5 rows x 40 columns]",
      "text/html": "<div>\n<style scoped>\n    .dataframe tbody tr th:only-of-type {\n        vertical-align: middle;\n    }\n\n    .dataframe tbody tr th {\n        vertical-align: top;\n    }\n\n    .dataframe thead th {\n        text-align: right;\n    }\n</style>\n<table border=\"1\" class=\"dataframe\">\n  <thead>\n    <tr style=\"text-align: right;\">\n      <th></th>\n      <th>HR</th>\n      <th>O2Sat</th>\n      <th>Temp</th>\n      <th>SBP</th>\n      <th>MAP</th>\n      <th>DBP</th>\n      <th>Resp</th>\n      <th>EtCO2</th>\n      <th>BaseExcess</th>\n      <th>HCO3</th>\n      <th>...</th>\n      <th>PTT</th>\n      <th>WBC</th>\n      <th>Fibrinogen</th>\n      <th>Platelets</th>\n      <th>Age</th>\n      <th>Gender</th>\n      <th>Unit1</th>\n      <th>Unit2</th>\n      <th>HospAdmTime</th>\n      <th>ICULOS</th>\n    </tr>\n  </thead>\n  <tbody>\n    <tr>\n      <th>0</th>\n      <td>NaN</td>\n      <td>NaN</td>\n      <td>NaN</td>\n      <td>NaN</td>\n      <td>NaN</td>\n      <td>NaN</td>\n      <td>NaN</td>\n      <td>NaN</td>\n      <td>NaN</td>\n      <td>NaN</td>\n      <td>...</td>\n      <td>NaN</td>\n      <td>NaN</td>\n      <td>NaN</td>\n      <td>NaN</td>\n      <td>35.58</td>\n      <td>1</td>\n      <td>1</td>\n      <td>0</td>\n      <td>-22.28</td>\n      <td>1</td>\n    </tr>\n    <tr>\n      <th>1</th>\n      <td>77.0</td>\n      <td>95.0</td>\n      <td>NaN</td>\n      <td>122.0</td>\n      <td>82.0</td>\n      <td>NaN</td>\n      <td>17.0</td>\n      <td>NaN</td>\n      <td>NaN</td>\n      <td>NaN</td>\n      <td>...</td>\n      <td>NaN</td>\n      <td>NaN</td>\n      <td>NaN</td>\n      <td>NaN</td>\n      <td>35.58</td>\n      <td>1</td>\n      <td>1</td>\n      <td>0</td>\n      <td>-22.28</td>\n      <td>2</td>\n    </tr>\n    <tr>\n      <th>2</th>\n      <td>85.0</td>\n      <td>100.0</td>\n      <td>35.89</td>\n      <td>127.0</td>\n      <td>85.0</td>\n      <td>NaN</td>\n      <td>10.0</td>\n      <td>NaN</td>\n      <td>NaN</td>\n      <td>NaN</td>\n      <td>...</td>\n      <td>NaN</td>\n      <td>NaN</td>\n      <td>NaN</td>\n      <td>NaN</td>\n      <td>35.58</td>\n      <td>1</td>\n      <td>1</td>\n      <td>0</td>\n      <td>-22.28</td>\n      <td>3</td>\n    </tr>\n    <tr>\n      <th>3</th>\n      <td>80.0</td>\n      <td>95.0</td>\n      <td>NaN</td>\n      <td>117.0</td>\n      <td>82.0</td>\n      <td>NaN</td>\n      <td>18.0</td>\n      <td>NaN</td>\n      <td>NaN</td>\n      <td>NaN</td>\n      <td>...</td>\n      <td>NaN</td>\n      <td>NaN</td>\n      <td>NaN</td>\n      <td>NaN</td>\n      <td>35.58</td>\n      <td>1</td>\n      <td>1</td>\n      <td>0</td>\n      <td>-22.28</td>\n      <td>4</td>\n    </tr>\n    <tr>\n      <th>4</th>\n      <td>71.0</td>\n      <td>96.0</td>\n      <td>NaN</td>\n      <td>118.0</td>\n      <td>79.0</td>\n      <td>NaN</td>\n      <td>18.0</td>\n      <td>NaN</td>\n      <td>NaN</td>\n      <td>23.0</td>\n      <td>...</td>\n      <td>NaN</td>\n      <td>5.5</td>\n      <td>NaN</td>\n      <td>137.0</td>\n      <td>35.58</td>\n      <td>1</td>\n      <td>1</td>\n      <td>0</td>\n      <td>-22.28</td>\n      <td>5</td>\n    </tr>\n  </tbody>\n</table>\n<p>5 rows × 40 columns</p>\n</div>"
     },
     "execution_count": 16,
     "metadata": {},
     "output_type": "execute_result"
    }
   ],
   "source": [
    "sample_df, sample_label = extract_sample('original_data/test/patient_5.psv')\n",
    "sample_df.head()"
   ],
   "metadata": {
    "collapsed": false,
    "ExecuteTime": {
     "end_time": "2023-05-07T17:12:50.837817950Z",
     "start_time": "2023-05-07T17:12:50.827431878Z"
    }
   }
  }
 ],
 "metadata": {
  "kernelspec": {
   "display_name": "Python 3",
   "language": "python",
   "name": "python3"
  },
  "language_info": {
   "codemirror_mode": {
    "name": "ipython",
    "version": 2
   },
   "file_extension": ".py",
   "mimetype": "text/x-python",
   "name": "python",
   "nbconvert_exporter": "python",
   "pygments_lexer": "ipython2",
   "version": "2.7.6"
  }
 },
 "nbformat": 4,
 "nbformat_minor": 0
}
