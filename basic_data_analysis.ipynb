{
 "cells": [
  {
   "cell_type": "code",
   "execution_count": 23,
   "metadata": {
    "collapsed": true,
    "ExecuteTime": {
     "end_time": "2023-05-04T06:00:41.698964607Z",
     "start_time": "2023-05-04T06:00:41.494516549Z"
    }
   },
   "outputs": [],
   "source": [
    "import pandas as pd\n",
    "from glob import glob\n",
    "import matplotlib.pyplot as plt"
   ]
  },
  {
   "cell_type": "code",
   "execution_count": 14,
   "outputs": [],
   "source": [
    "def extract_sample(patient_path):\n",
    "    patient_dataframe = pd.read_csv(patient_path, sep='|')\n",
    "    if len(patient_dataframe[patient_dataframe.SepsisLabel == 1]) == 0:\n",
    "        label = 0\n",
    "    else:\n",
    "        label = 1\n",
    "        label_row = patient_dataframe[patient_dataframe.SepsisLabel == 1].index[0]\n",
    "        patient_dataframe = patient_dataframe.iloc[:label_row + 1]\n",
    "\n",
    "    patient_dataframe = patient_dataframe.fillna(patient_dataframe.mean(numeric_only=True).round(1),inplace=False)\n",
    "    patient_dataframe = patient_dataframe.fillna(0, inplace=False)\n",
    "    patient_dataframe = patient_dataframe.drop(columns=['SepsisLabel'], inplace=False)\n",
    "    return patient_dataframe, label\n"
   ],
   "metadata": {
    "collapsed": false,
    "ExecuteTime": {
     "end_time": "2023-05-04T05:50:46.844310042Z",
     "start_time": "2023-05-04T05:50:46.800143553Z"
    }
   }
  },
  {
   "cell_type": "code",
   "execution_count": 21,
   "outputs": [],
   "source": [
    "def calc_class_balance(ds_path):\n",
    "    files_paths = glob(f'{ds_path}/**.psv')\n",
    "    zero_counter = 0\n",
    "    one_counter = 0\n",
    "    for sample_path in files_paths:\n",
    "        sample_df, sample_label = extract_sample(sample_path)\n",
    "        if sample_label == 0:\n",
    "            zero_counter+=1\n",
    "        else:\n",
    "            one_counter+=1\n",
    "\n",
    "    zero_class_percentage = zero_counter / (zero_counter+one_counter)\n",
    "    one_class_percentage = one_counter / (zero_counter+one_counter)\n",
    "    return zero_class_percentage, one_class_percentage"
   ],
   "metadata": {
    "collapsed": false,
    "ExecuteTime": {
     "end_time": "2023-05-04T05:59:19.048176266Z",
     "start_time": "2023-05-04T05:59:19.002998630Z"
    }
   }
  },
  {
   "cell_type": "code",
   "execution_count": 36,
   "outputs": [],
   "source": [
    "def plot_class_percentages(*numbers):\n",
    "    assert len(numbers) == 2, 'Please provide two classes'\n",
    "    # Define the labels for x-axis\n",
    "    labels = ['Class 1', 'Class 2']\n",
    "\n",
    "    # Create a bar chart\n",
    "    plt.bar(labels, numbers)\n",
    "\n",
    "    # Add a title to the chart\n",
    "    plt.title('Class balance')\n",
    "\n",
    "    # Add labels to the axes\n",
    "    plt.xlabel('Classes')\n",
    "    plt.ylabel('Percentage')\n",
    "\n",
    "    # Add numbers above the bars\n",
    "    for i in range(len(numbers)):\n",
    "        plt.text(i, numbers[i], numbers[i], ha='center')\n",
    "\n",
    "    # Show the chart\n",
    "    plt.show()\n"
   ],
   "metadata": {
    "collapsed": false,
    "ExecuteTime": {
     "end_time": "2023-05-04T06:09:49.284203655Z",
     "start_time": "2023-05-04T06:09:49.237977730Z"
    }
   }
  },
  {
   "cell_type": "code",
   "execution_count": 29,
   "outputs": [
    {
     "data": {
      "text/plain": "<Figure size 640x480 with 1 Axes>",
      "image/png": "[encoded data removed]"
     },
     "metadata": {},
     "output_type": "display_data"
    }
   ],
   "source": [
    "    train_path = 'original_data/train'\n",
    "    train_zero_class_per, train_one_class_per = calc_class_balance(train_path)\n",
    "    plot_class_percentages(train_zero_class_per, train_one_class_per)"
   ],
   "metadata": {
    "collapsed": false,
    "ExecuteTime": {
     "end_time": "2023-05-04T06:06:08.445196485Z",
     "start_time": "2023-05-04T06:03:16.715873678Z"
    }
   }
  },
  {
   "cell_type": "code",
   "execution_count": null,
   "outputs": [],
   "source": [
    "test_path = 'original_data/test'\n",
    "test_zero_class_per, test_one_class_per = calc_class_balance(test_path)\n",
    "plot_class_percentages(test_zero_class_per, test_one_class_per)\n"
   ],
   "metadata": {
    "collapsed": false,
    "is_executing": true,
    "ExecuteTime": {
     "start_time": "2023-05-04T06:10:35.853533309Z"
    }
   }
  }
 ],
 "metadata": {
  "kernelspec": {
   "display_name": "Python 3",
   "language": "python",
   "name": "python3"
  },
  "language_info": {
   "codemirror_mode": {
    "name": "ipython",
    "version": 2
   },
   "file_extension": ".py",
   "mimetype": "text/x-python",
   "name": "python",
   "nbconvert_exporter": "python",
   "pygments_lexer": "ipython2",
   "version": "2.7.6"
  }
 },
 "nbformat": 4,
 "nbformat_minor": 0
}
